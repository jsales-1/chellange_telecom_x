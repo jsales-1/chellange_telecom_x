{
  "cells": [
    {
      "cell_type": "markdown",
      "metadata": {},
      "source": [
        "### Imports"
      ]
    },
    {
      "cell_type": "code",
      "execution_count": 22,
      "metadata": {},
      "outputs": [],
      "source": [
        "import pandas as pd\n",
        "import numpy as np\n",
        "from pandas import json_normalize\n",
        "import matplotlib.pyplot as plt\n"
      ]
    },
    {
      "cell_type": "markdown",
      "metadata": {
        "id": "4foVEKhrlqcH"
      },
      "source": [
        "#📌 Extracão"
      ]
    },
    {
      "cell_type": "code",
      "execution_count": 5,
      "metadata": {
        "id": "1--uPM88l7JH"
      },
      "outputs": [],
      "source": [
        "df = pd.read_json(\"TelecomX_Data.json\")\n",
        "df_transformed = df.copy()"
      ]
    },
    {
      "cell_type": "markdown",
      "metadata": {
        "id": "1lSZP8zmmGZu"
      },
      "source": [
        "#🔧 Transformação"
      ]
    },
    {
      "cell_type": "code",
      "execution_count": 7,
      "metadata": {
        "id": "bsm-WTLjmHvt"
      },
      "outputs": [],
      "source": [
        "\n",
        "dict_cols = [col for col in df_transformed.columns if isinstance(df_transformed[col].iloc[0], dict)]\n",
        "for col in dict_cols:\n",
        "    expanded = df_transformed[col].apply(pd.Series)\n",
        "    expanded.columns = [f\"{col}_{subcol}\" for subcol in expanded.columns]\n",
        "    df_transformed = pd.concat([df_transformed.drop(col, axis=1), expanded], axis=1)\n",
        "\n",
        "\"\"\" \n",
        "Acabo realizando o processo duas vezes devido ao fato de \n",
        "haver dicionários dentro de dicionários no json.\n",
        "\n",
        "\"\"\"\n",
        "\n",
        "dict_cols = [col for col in df_transformed.columns if isinstance(df_transformed[col].iloc[0], dict)]\n",
        "for col in dict_cols:\n",
        "    expanded = df_transformed[col].apply(pd.Series)\n",
        "    expanded.columns = [f\"{col}_{subcol}\" for subcol in expanded.columns]\n",
        "    df_transformed = pd.concat([df_transformed.drop(col, axis=1), expanded], axis=1)\n",
        "\n"
      ]
    },
    {
      "cell_type": "markdown",
      "metadata": {
        "id": "6XnTC2NTmMRL"
      },
      "source": [
        "#📊 Carga e análise"
      ]
    },
    {
      "cell_type": "code",
      "execution_count": 8,
      "metadata": {},
      "outputs": [
        {
          "data": {
            "text/plain": [
              "customerID\n",
              "False    7267\n",
              "Name: count, dtype: int64"
            ]
          },
          "execution_count": 8,
          "metadata": {},
          "output_type": "execute_result"
        }
      ],
      "source": [
        "duplicates = df_transformed['customerID'].duplicated(keep='first')\n",
        "duplicates.value_counts()\n"
      ]
    },
    {
      "cell_type": "code",
      "execution_count": 9,
      "metadata": {},
      "outputs": [
        {
          "name": "stdout",
          "output_type": "stream",
          "text": [
            "Número de NaN em customerID = 0\n",
            "Número de NaN em Churn = 0\n",
            "Número de NaN em customer_gender = 0\n",
            "Número de NaN em customer_SeniorCitizen = 0\n",
            "Número de NaN em customer_Partner = 0\n",
            "Número de NaN em customer_Dependents = 0\n",
            "Número de NaN em customer_tenure = 0\n",
            "Número de NaN em phone_PhoneService = 0\n",
            "Número de NaN em phone_MultipleLines = 0\n",
            "Número de NaN em internet_InternetService = 0\n",
            "Número de NaN em internet_OnlineSecurity = 0\n",
            "Número de NaN em internet_OnlineBackup = 0\n",
            "Número de NaN em internet_DeviceProtection = 0\n",
            "Número de NaN em internet_TechSupport = 0\n",
            "Número de NaN em internet_StreamingTV = 0\n",
            "Número de NaN em internet_StreamingMovies = 0\n",
            "Número de NaN em account_Contract = 0\n",
            "Número de NaN em account_PaperlessBilling = 0\n",
            "Número de NaN em account_PaymentMethod = 0\n",
            "Número de NaN em account_Charges_Monthly = 0\n",
            "Número de NaN em account_Charges_Total = 0\n"
          ]
        }
      ],
      "source": [
        "for i in df_transformed.columns:\n",
        "   print(f\"Número de NaN em {i} = {list(df_transformed[i].isna()).count(True)}\")"
      ]
    },
    {
      "cell_type": "code",
      "execution_count": 10,
      "metadata": {},
      "outputs": [
        {
          "data": {
            "text/plain": [
              "customerID                   string[python]\n",
              "Churn                        string[python]\n",
              "customer_gender              string[python]\n",
              "customer_SeniorCitizen                Int64\n",
              "customer_Partner             string[python]\n",
              "customer_Dependents          string[python]\n",
              "customer_tenure                       Int64\n",
              "phone_PhoneService           string[python]\n",
              "phone_MultipleLines          string[python]\n",
              "internet_InternetService     string[python]\n",
              "internet_OnlineSecurity      string[python]\n",
              "internet_OnlineBackup        string[python]\n",
              "internet_DeviceProtection    string[python]\n",
              "internet_TechSupport         string[python]\n",
              "internet_StreamingTV         string[python]\n",
              "internet_StreamingMovies     string[python]\n",
              "account_Contract             string[python]\n",
              "account_PaperlessBilling     string[python]\n",
              "account_PaymentMethod        string[python]\n",
              "account_Charges_Monthly             Float64\n",
              "account_Charges_Total        string[python]\n",
              "dtype: object"
            ]
          },
          "execution_count": 10,
          "metadata": {},
          "output_type": "execute_result"
        }
      ],
      "source": [
        "df_transformed = df_transformed.convert_dtypes()\n",
        "df_transformed.convert_dtypes().dtypes"
      ]
    },
    {
      "cell_type": "code",
      "execution_count": 19,
      "metadata": {},
      "outputs": [],
      "source": [
        "df_transformed['account_Charges_Daily'] = [ df_transformed['account_Charges_Monthly'][i]/30 for i in df_transformed.index]"
      ]
    },
    {
      "cell_type": "code",
      "execution_count": 38,
      "metadata": {},
      "outputs": [
        {
          "data": {
            "text/plain": [
              "30.129571885666984"
            ]
          },
          "execution_count": 38,
          "metadata": {},
          "output_type": "execute_result"
        }
      ],
      "source": [
        "data.std()"
      ]
    },
    {
      "cell_type": "code",
      "execution_count": 40,
      "metadata": {},
      "outputs": [
        {
          "data": {
            "text/plain": [
              "Index(['customerID', 'Churn', 'customer_gender', 'customer_SeniorCitizen',\n",
              "       'customer_Partner', 'customer_Dependents', 'customer_tenure',\n",
              "       'phone_PhoneService', 'phone_MultipleLines', 'internet_InternetService',\n",
              "       'internet_OnlineSecurity', 'internet_OnlineBackup',\n",
              "       'internet_DeviceProtection', 'internet_TechSupport',\n",
              "       'internet_StreamingTV', 'internet_StreamingMovies', 'account_Contract',\n",
              "       'account_PaperlessBilling', 'account_PaymentMethod',\n",
              "       'account_Charges_Monthly', 'account_Charges_Total', 'daily',\n",
              "       'account_Charges_Daily'],\n",
              "      dtype='object')"
            ]
          },
          "execution_count": 40,
          "metadata": {},
          "output_type": "execute_result"
        }
      ],
      "source": [
        "df_transformed.columns"
      ]
    },
    {
      "cell_type": "code",
      "execution_count": 42,
      "metadata": {},
      "outputs": [
        {
          "ename": "TypeError",
          "evalue": "Cannot perform reduction 'mean' with string dtype",
          "output_type": "error",
          "traceback": [
            "\u001b[1;31m---------------------------------------------------------------------------\u001b[0m",
            "\u001b[1;31mTypeError\u001b[0m                                 Traceback (most recent call last)",
            "Cell \u001b[1;32mIn[42], line 30\u001b[0m\n\u001b[0;32m     27\u001b[0m ax\u001b[39m.\u001b[39mhist(data, bins\u001b[39m=\u001b[39m\u001b[39m15\u001b[39m, edgecolor\u001b[39m=\u001b[39m\u001b[39m'\u001b[39m\u001b[39mblack\u001b[39m\u001b[39m'\u001b[39m, color\u001b[39m=\u001b[39mconfig[\u001b[39m'\u001b[39m\u001b[39mcolor\u001b[39m\u001b[39m'\u001b[39m], alpha\u001b[39m=\u001b[39m\u001b[39m0.7\u001b[39m)\n\u001b[0;32m     28\u001b[0m ax\u001b[39m.\u001b[39mgrid(\u001b[39mTrue\u001b[39;00m, linestyle\u001b[39m=\u001b[39m\u001b[39m'\u001b[39m\u001b[39m--\u001b[39m\u001b[39m'\u001b[39m, alpha\u001b[39m=\u001b[39m\u001b[39m0.6\u001b[39m)\n\u001b[1;32m---> 30\u001b[0m ax\u001b[39m.\u001b[39maxvline(data\u001b[39m.\u001b[39;49mmean(), color\u001b[39m=\u001b[39m\u001b[39m'\u001b[39m\u001b[39mred\u001b[39m\u001b[39m'\u001b[39m, linestyle\u001b[39m=\u001b[39m\u001b[39m'\u001b[39m\u001b[39m-\u001b[39m\u001b[39m'\u001b[39m, linewidth\u001b[39m=\u001b[39m\u001b[39m2\u001b[39m, label\u001b[39m=\u001b[39m\u001b[39mf\u001b[39m\u001b[39m'\u001b[39m\u001b[39mMédia: R$\u001b[39m\u001b[39m{\u001b[39;00mdata\u001b[39m.\u001b[39mmean()\u001b[39m:\u001b[39;00m\u001b[39m.2f\u001b[39m\u001b[39m}\u001b[39;00m\u001b[39m'\u001b[39m)\n\u001b[0;32m     31\u001b[0m ax\u001b[39m.\u001b[39maxvline(data\u001b[39m.\u001b[39mmedian(), color\u001b[39m=\u001b[39m\u001b[39m'\u001b[39m\u001b[39mblue\u001b[39m\u001b[39m'\u001b[39m, linestyle\u001b[39m=\u001b[39m\u001b[39m'\u001b[39m\u001b[39m--\u001b[39m\u001b[39m'\u001b[39m, linewidth\u001b[39m=\u001b[39m\u001b[39m2\u001b[39m, label\u001b[39m=\u001b[39m\u001b[39mf\u001b[39m\u001b[39m'\u001b[39m\u001b[39mMediana: R$\u001b[39m\u001b[39m{\u001b[39;00mdata\u001b[39m.\u001b[39mmedian()\u001b[39m:\u001b[39;00m\u001b[39m.2f\u001b[39m\u001b[39m}\u001b[39;00m\u001b[39m'\u001b[39m)\n\u001b[0;32m     32\u001b[0m ax\u001b[39m.\u001b[39maxvline(data\u001b[39m.\u001b[39mstd(), color\u001b[39m=\u001b[39m\u001b[39m'\u001b[39m\u001b[39mgreen\u001b[39m\u001b[39m'\u001b[39m, linestyle\u001b[39m=\u001b[39m\u001b[39m'\u001b[39m\u001b[39m:\u001b[39m\u001b[39m'\u001b[39m, linewidth\u001b[39m=\u001b[39m\u001b[39m2\u001b[39m, label\u001b[39m=\u001b[39m\u001b[39mf\u001b[39m\u001b[39m'\u001b[39m\u001b[39mDesvio Padrão: R$\u001b[39m\u001b[39m{\u001b[39;00mdata\u001b[39m.\u001b[39mstd()\u001b[39m:\u001b[39;00m\u001b[39m.2f\u001b[39m\u001b[39m}\u001b[39;00m\u001b[39m'\u001b[39m)\n",
            "File \u001b[1;32mc:\\Users\\jose23038\\AppData\\Local\\anaconda3\\envs\\ilumpy\\Lib\\site-packages\\pandas\\core\\series.py:6549\u001b[0m, in \u001b[0;36mSeries.mean\u001b[1;34m(self, axis, skipna, numeric_only, **kwargs)\u001b[0m\n\u001b[0;32m   6541\u001b[0m \u001b[39m@doc\u001b[39m(make_doc(\u001b[39m\"\u001b[39m\u001b[39mmean\u001b[39m\u001b[39m\"\u001b[39m, ndim\u001b[39m=\u001b[39m\u001b[39m1\u001b[39m))\n\u001b[0;32m   6542\u001b[0m \u001b[39mdef\u001b[39;00m \u001b[39mmean\u001b[39m(\n\u001b[0;32m   6543\u001b[0m     \u001b[39mself\u001b[39m,\n\u001b[1;32m   (...)\u001b[0m\n\u001b[0;32m   6547\u001b[0m     \u001b[39m*\u001b[39m\u001b[39m*\u001b[39mkwargs,\n\u001b[0;32m   6548\u001b[0m ):\n\u001b[1;32m-> 6549\u001b[0m     \u001b[39mreturn\u001b[39;00m NDFrame\u001b[39m.\u001b[39;49mmean(\u001b[39mself\u001b[39;49m, axis, skipna, numeric_only, \u001b[39m*\u001b[39;49m\u001b[39m*\u001b[39;49mkwargs)\n",
            "File \u001b[1;32mc:\\Users\\jose23038\\AppData\\Local\\anaconda3\\envs\\ilumpy\\Lib\\site-packages\\pandas\\core\\generic.py:12420\u001b[0m, in \u001b[0;36mNDFrame.mean\u001b[1;34m(self, axis, skipna, numeric_only, **kwargs)\u001b[0m\n\u001b[0;32m  12413\u001b[0m \u001b[39mdef\u001b[39;00m \u001b[39mmean\u001b[39m(\n\u001b[0;32m  12414\u001b[0m     \u001b[39mself\u001b[39m,\n\u001b[0;32m  12415\u001b[0m     axis: Axis \u001b[39m|\u001b[39m \u001b[39mNone\u001b[39;00m \u001b[39m=\u001b[39m \u001b[39m0\u001b[39m,\n\u001b[1;32m   (...)\u001b[0m\n\u001b[0;32m  12418\u001b[0m     \u001b[39m*\u001b[39m\u001b[39m*\u001b[39mkwargs,\n\u001b[0;32m  12419\u001b[0m ) \u001b[39m-\u001b[39m\u001b[39m>\u001b[39m Series \u001b[39m|\u001b[39m \u001b[39mfloat\u001b[39m:\n\u001b[1;32m> 12420\u001b[0m     \u001b[39mreturn\u001b[39;00m \u001b[39mself\u001b[39;49m\u001b[39m.\u001b[39;49m_stat_function(\n\u001b[0;32m  12421\u001b[0m         \u001b[39m\"\u001b[39;49m\u001b[39mmean\u001b[39;49m\u001b[39m\"\u001b[39;49m, nanops\u001b[39m.\u001b[39;49mnanmean, axis, skipna, numeric_only, \u001b[39m*\u001b[39;49m\u001b[39m*\u001b[39;49mkwargs\n\u001b[0;32m  12422\u001b[0m     )\n",
            "File \u001b[1;32mc:\\Users\\jose23038\\AppData\\Local\\anaconda3\\envs\\ilumpy\\Lib\\site-packages\\pandas\\core\\generic.py:12377\u001b[0m, in \u001b[0;36mNDFrame._stat_function\u001b[1;34m(self, name, func, axis, skipna, numeric_only, **kwargs)\u001b[0m\n\u001b[0;32m  12373\u001b[0m nv\u001b[39m.\u001b[39mvalidate_func(name, (), kwargs)\n\u001b[0;32m  12375\u001b[0m validate_bool_kwarg(skipna, \u001b[39m\"\u001b[39m\u001b[39mskipna\u001b[39m\u001b[39m\"\u001b[39m, none_allowed\u001b[39m=\u001b[39m\u001b[39mFalse\u001b[39;00m)\n\u001b[1;32m> 12377\u001b[0m \u001b[39mreturn\u001b[39;00m \u001b[39mself\u001b[39;49m\u001b[39m.\u001b[39;49m_reduce(\n\u001b[0;32m  12378\u001b[0m     func, name\u001b[39m=\u001b[39;49mname, axis\u001b[39m=\u001b[39;49maxis, skipna\u001b[39m=\u001b[39;49mskipna, numeric_only\u001b[39m=\u001b[39;49mnumeric_only\n\u001b[0;32m  12379\u001b[0m )\n",
            "File \u001b[1;32mc:\\Users\\jose23038\\AppData\\Local\\anaconda3\\envs\\ilumpy\\Lib\\site-packages\\pandas\\core\\series.py:6443\u001b[0m, in \u001b[0;36mSeries._reduce\u001b[1;34m(self, op, name, axis, skipna, numeric_only, filter_type, **kwds)\u001b[0m\n\u001b[0;32m   6439\u001b[0m     \u001b[39mself\u001b[39m\u001b[39m.\u001b[39m_get_axis_number(axis)\n\u001b[0;32m   6441\u001b[0m \u001b[39mif\u001b[39;00m \u001b[39misinstance\u001b[39m(delegate, ExtensionArray):\n\u001b[0;32m   6442\u001b[0m     \u001b[39m# dispatch to ExtensionArray interface\u001b[39;00m\n\u001b[1;32m-> 6443\u001b[0m     \u001b[39mreturn\u001b[39;00m delegate\u001b[39m.\u001b[39;49m_reduce(name, skipna\u001b[39m=\u001b[39;49mskipna, \u001b[39m*\u001b[39;49m\u001b[39m*\u001b[39;49mkwds)\n\u001b[0;32m   6445\u001b[0m \u001b[39melse\u001b[39;00m:\n\u001b[0;32m   6446\u001b[0m     \u001b[39m# dispatch to numpy arrays\u001b[39;00m\n\u001b[0;32m   6447\u001b[0m     \u001b[39mif\u001b[39;00m numeric_only \u001b[39mand\u001b[39;00m \u001b[39mself\u001b[39m\u001b[39m.\u001b[39mdtype\u001b[39m.\u001b[39mkind \u001b[39mnot\u001b[39;00m \u001b[39min\u001b[39;00m \u001b[39m\"\u001b[39m\u001b[39miufcb\u001b[39m\u001b[39m\"\u001b[39m:\n\u001b[0;32m   6448\u001b[0m         \u001b[39m# i.e. not is_numeric_dtype(self.dtype)\u001b[39;00m\n",
            "File \u001b[1;32mc:\\Users\\jose23038\\AppData\\Local\\anaconda3\\envs\\ilumpy\\Lib\\site-packages\\pandas\\core\\arrays\\string_.py:523\u001b[0m, in \u001b[0;36mStringArray._reduce\u001b[1;34m(self, name, skipna, axis, **kwargs)\u001b[0m\n\u001b[0;32m    520\u001b[0m \u001b[39mif\u001b[39;00m name \u001b[39min\u001b[39;00m [\u001b[39m\"\u001b[39m\u001b[39mmin\u001b[39m\u001b[39m\"\u001b[39m, \u001b[39m\"\u001b[39m\u001b[39mmax\u001b[39m\u001b[39m\"\u001b[39m]:\n\u001b[0;32m    521\u001b[0m     \u001b[39mreturn\u001b[39;00m \u001b[39mgetattr\u001b[39m(\u001b[39mself\u001b[39m, name)(skipna\u001b[39m=\u001b[39mskipna, axis\u001b[39m=\u001b[39maxis)\n\u001b[1;32m--> 523\u001b[0m \u001b[39mraise\u001b[39;00m \u001b[39mTypeError\u001b[39;00m(\u001b[39mf\u001b[39m\u001b[39m\"\u001b[39m\u001b[39mCannot perform reduction \u001b[39m\u001b[39m'\u001b[39m\u001b[39m{\u001b[39;00mname\u001b[39m}\u001b[39;00m\u001b[39m'\u001b[39m\u001b[39m with string dtype\u001b[39m\u001b[39m\"\u001b[39m)\n",
            "\u001b[1;31mTypeError\u001b[0m: Cannot perform reduction 'mean' with string dtype"
          ]
        }
      ],
      "source": [
        "import matplotlib.pyplot as plt\n",
        "\n",
        "fig, axes = plt.subplots(1, 3, figsize=(18, 5))\n",
        "fig.suptitle('Análise das Cobranças da Conta', fontsize=16)\n",
        "\n",
        "dados = {\n",
        "    'account_Charges_Monthly': {\n",
        "        'title': 'Cobrança Mensal',\n",
        "        'xlabel': 'Valor Mensal (R$)',\n",
        "        'color': 'skyblue'\n",
        "    },\n",
        "    'account_Charges_Total': {\n",
        "        'title': 'Cobrança Total',\n",
        "        'xlabel': 'Valor Total (R$)',\n",
        "        'color': 'salmon'\n",
        "    },\n",
        "    'account_Charges_Daily': {\n",
        "        'title': 'Cobrança Diária',\n",
        "        'xlabel': 'Valor Diário (R$)',\n",
        "        'color': 'lightgreen'\n",
        "    }\n",
        "}\n",
        "\n",
        "for ax, (col, config) in zip(axes, dados.items()):\n",
        "    data = df_transformed[col].dropna()\n",
        "    \n",
        "    ax.hist(data, bins=15, edgecolor='black', color=config['color'], alpha=0.7)\n",
        "    ax.grid(True, linestyle='--', alpha=0.6)\n",
        "    \n",
        "    ax.axvline(data.mean(), color='red', linestyle='-', linewidth=2, label=f'Média: R${data.mean():.2f}')\n",
        "    ax.axvline(data.median(), color='blue', linestyle='--', linewidth=2, label=f'Mediana: R${data.median():.2f}')\n",
        "    ax.axvline(data.std(), color='green', linestyle=':', linewidth=2, label=f'Desvio Padrão: R${data.std():.2f}')\n",
        "    \n",
        "    ax.set_title(config['title'])\n",
        "    ax.set_xlabel(config['xlabel'])\n",
        "    ax.set_ylabel('Frequência')\n",
        "    ax.legend()\n",
        "\n",
        "plt.tight_layout()\n",
        "plt.show()"
      ]
    },
    {
      "cell_type": "markdown",
      "metadata": {
        "id": "v-WzfSvTmaw9"
      },
      "source": [
        "#📄Relatorio Final"
      ]
    },
    {
      "cell_type": "code",
      "execution_count": null,
      "metadata": {
        "id": "XMTac0YJmeK9"
      },
      "outputs": [],
      "source": []
    }
  ],
  "metadata": {
    "colab": {
      "provenance": []
    },
    "kernelspec": {
      "display_name": "Python 3.12.4 ('ilumpy')",
      "language": "python",
      "name": "python3"
    },
    "language_info": {
      "codemirror_mode": {
        "name": "ipython",
        "version": 3
      },
      "file_extension": ".py",
      "mimetype": "text/x-python",
      "name": "python",
      "nbconvert_exporter": "python",
      "pygments_lexer": "ipython3",
      "version": "3.12.4"
    },
    "vscode": {
      "interpreter": {
        "hash": "8994a04b4ccf70bfcc452c822afda6a88c204b2f833cd684c7b2289d7e96707e"
      }
    }
  },
  "nbformat": 4,
  "nbformat_minor": 0
}
